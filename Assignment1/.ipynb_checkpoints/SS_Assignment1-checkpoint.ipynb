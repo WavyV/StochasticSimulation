{
 "cells": [
  {
   "cell_type": "markdown",
   "metadata": {},
   "source": [
    "# Stochastic Simulation -- Asignment 1\n",
    "## Walter Vianen -- 11811293\n",
    "## Daan van Ingen -- 10345078"
   ]
  },
  {
   "cell_type": "code",
   "execution_count": 21,
   "metadata": {},
   "outputs": [],
   "source": [
    "# Import packages\n",
    "from matplotlib import pyplot as plt\n",
    "from matplotlib import colors\n",
    "from mpl_toolkits.mplot3d import Axes3D\n",
    "from scipy import stats\n",
    "from numba import jit\n",
    "from tqdm import tqdm\n",
    "import numpy as np\n",
    "import pandas as pd\n",
    "import math\n",
    "import itertools\n",
    "import random\n",
    "import sys"
   ]
  },
  {
   "cell_type": "code",
   "execution_count": 2,
   "metadata": {},
   "outputs": [],
   "source": [
    "MAXITER = 300\n",
    "CMAP = 'gnuplot2'\n",
    "DPI = 300"
   ]
  },
  {
   "cell_type": "code",
   "execution_count": 3,
   "metadata": {},
   "outputs": [],
   "source": [
    "# Functions needed to compute the Mandelbrot set (adapted from https://gist.github.com/jfpuget/60e07a82dece69b011bb)\n",
    "@jit\n",
    "def mandelbrot(c, maxiter):\n",
    "    z = c\n",
    "    for n in range(maxiter):\n",
    "        if abs(z) > 3:\n",
    "            return n\n",
    "        z = z*z + c\n",
    "    return 0\n",
    "\n",
    "@jit\n",
    "def mandelbrot_set(xmin, xmax, ymin, ymax, width, height, maxiter):\n",
    "    r1 = np.linspace(xmin, xmax, width)\n",
    "    r2 = np.linspace(ymin, ymax, height)\n",
    "    n3 = np.empty((width, height))\n",
    "    for i in range(width):\n",
    "        for j in range(height):\n",
    "            n3[i,j] = mandelbrot(r1[i] + 1j*r2[j], maxiter)\n",
    "    return (r1, r2, n3)\n",
    "\n",
    "def mandelbrot_image(xmin, xmax, ymin, ymax, width, height, maxiter, cmap):\n",
    "    img_width = DPI * width\n",
    "    img_height = DPI * height\n",
    "    x,y,z = mandelbrot_set(xmin ,xmax, ymin, ymax, img_width, img_height, maxiter)\n",
    "    \n",
    "    fig, ax = plt.subplots(figsize=(width, height), dpi=DPI)\n",
    "    ticks = np.arange(0, img_width+1, int(img_width/4))\n",
    "    x_ticks = xmin + (xmax-xmin)*ticks/img_width\n",
    "    plt.xticks(ticks, x_ticks)\n",
    "    y_ticks = ymin + (ymax-ymin)*ticks/img_width\n",
    "    plt.yticks(ticks, y_ticks)\n",
    "    \n",
    "    norm = colors.PowerNorm(0.5)\n",
    "    ax.imshow(z.T, cmap=cmap, origin='lower', norm=norm)\n",
    "    plt.show()"
   ]
  },
  {
   "cell_type": "code",
   "execution_count": null,
   "metadata": {},
   "outputs": [],
   "source": [
    "# Plot Mandelbrot Set (with different zoom)\n",
    "# mandelbrot_image(-2, 1, -1.5, 1.5, 5, 5, maxiter = MAXITER, cmap=CMAP)\n",
    "\n",
    "# mandelbrot_image(-1.5, 0, -0.75, 0.75, 5, 5, maxiter = MAXITER, cmap=CMAP)\n",
    "\n",
    "# mandelbrot_image(-1.0, -0.5, 0, 0.5, 5, 5, maxiter = MAXITER, cmap=CMAP)\n",
    "\n",
    "# mandelbrot_image(-0.8, -0.7, 0.2, 0.3, 5, 5, maxiter = MAXITER, cmap=CMAP)\n",
    "\n",
    "# mandelbrot_image(-0.76, -0.70, 0.20, 0.26, 5, 5, maxiter = MAXITER, cmap=CMAP)\n",
    "\n",
    "# mandelbrot_image(-0.75, -0.73, 0.20, 0.22, 5, 5, maxiter = MAXITER, cmap=CMAP)"
   ]
  },
  {
   "cell_type": "code",
   "execution_count": 11,
   "metadata": {},
   "outputs": [],
   "source": [
    "@jit\n",
    "def random_hit_miss(S, MAXITER, xmin, xmax, ymin, ymax): \n",
    "    hits = 0\n",
    "    for s in range(0, S): \n",
    "        x = random.uniform(xmin, xmax)\n",
    "        y = random.uniform(ymin, ymax)\n",
    "        c = x + 1j*y\n",
    "        if(mandelbrot(c, MAXITER) == 0): \n",
    "            hits += 1\n",
    "    estimated_area = (hits / S) * (abs(xmin - xmax) * abs(ymin - ymax))\n",
    "    return estimated_area"
   ]
  },
  {
   "cell_type": "code",
   "execution_count": 31,
   "metadata": {},
   "outputs": [
    {
     "name": "stdout",
     "output_type": "stream",
     "text": [
      "1.51245\n"
     ]
    }
   ],
   "source": [
    "S, MAXITER = 100000, 300\n",
    "xmin, xmax, ymin, ymax = -2, 1, -1.5, 1.5\n",
    "print(random_hit_miss(S, MAXITER, xmin, xmax, ymin, ymax))"
   ]
  },
  {
   "cell_type": "code",
   "execution_count": 108,
   "metadata": {},
   "outputs": [],
   "source": [
    "@jit\n",
    "def LHS_hit_miss(S, MAXITER, xmin, xmax, ymin, ymax):\n",
    "    \"\"\"\n",
    "    Representation of samples is as follows: \n",
    "    The index of samples refers to which x-value the point will get, hence the column in the grid.\n",
    "    The value at samples[index] refers to which y-value the point wil get, hence the row in the grid.\n",
    "    Samples is a permutation of the numbers 0 through S-1. \n",
    "    This automatically enforces the LHS constraints by design.    \n",
    "    \"\"\"\n",
    "    samples = np.arange(0, S)\n",
    "    random.shuffle(samples)\n",
    "    hits = 0\n",
    "    for s in range(0, S): \n",
    "        x = xmin + s/S * abs(xmin-xmax)\n",
    "        y = ymin + samples[s]/S * abs(ymin-ymax)\n",
    "        c = x + 1j*y\n",
    "        if(mandelbrot(c, MAXITER) == 0): \n",
    "            hits += 1\n",
    "    estimated_area = (hits / S) * (abs(xmin - xmax) * abs(ymin - ymax))\n",
    "    return estimated_area"
   ]
  },
  {
   "cell_type": "code",
   "execution_count": 121,
   "metadata": {},
   "outputs": [
    {
     "data": {
      "text/plain": [
       "1.5220799999999999"
      ]
     },
     "execution_count": 121,
     "metadata": {},
     "output_type": "execute_result"
    }
   ],
   "source": [
    "S, MAXITER = 100000, 300\n",
    "xmin, xmax, ymin, ymax = -2, 1, -1.5, 1.5\n",
    "LHS_hit_miss(S, MAXITER, xmin, xmax, ymin, ymax)"
   ]
  },
  {
   "cell_type": "code",
   "execution_count": 100,
   "metadata": {},
   "outputs": [],
   "source": [
    "@jit\n",
    "def ortho_hit_miss(S, MAXITER, xmin, xmax, ymin, ymax, splits):\n",
    "    \"\"\"\n",
    "    Here we want to construct true_samples in the same representation as for the LHS sampling.\n",
    "    The extra constraint is that subcells need to have the same sampling density\n",
    "    \"\"\"\n",
    "    \n",
    "    if(S % splits != 0): \n",
    "        sys.exit(\"Please make sure S is divisible by splits.\")\n",
    "    \n",
    "    xsamples = np.arange(1, S+1)  #keeps track of all columns that have been chosen\n",
    "    ysamples = np.arange(1, S+1)  #keeps track of all rows that have been chosen\n",
    "    true_samples = np.zeros((S))  #to be filled with the final sampling\n",
    "    cell_range = S / splits  #the amount of rows (or columns) in a subcells\n",
    "    for i in range(0, splits):  #loop over all subcells\n",
    "        for j in range(0, splits): \n",
    "            xcandidates = []\n",
    "            ycandidates = []\n",
    "            #Copy the columns and rows that have not been picked yet in this cell to be candidates\n",
    "            for x in range(int(i*cell_range), int((i+1)*cell_range)): \n",
    "                if xsamples[x] != 0: \n",
    "                    xcandidates.append(xsamples[x])\n",
    "            for y in range(int(j*cell_range), int((j+1)*cell_range)): \n",
    "                if ysamples[y] != 0: \n",
    "                    ycandidates.append(ysamples[y])  \n",
    "            #Shuffle the candidates\n",
    "            random.shuffle(xcandidates)\n",
    "            random.shuffle(ycandidates)\n",
    "            #Pick the first S/splits^2 columns and rows to construct the sampling for this cell\n",
    "            for s in range(0, int(S/(splits*splits))): \n",
    "                x = xcandidates[s] - 1\n",
    "                y = ycandidates[s] - 1\n",
    "                true_samples[x] = y\n",
    "                xsamples[x] = 0  #And note down which rows and columns have been picked\n",
    "                ysamples[y] = 0\n",
    "\n",
    "    #Perform the actual hit-and-miss algorithm with the constructed sampling\n",
    "    hits = 0\n",
    "    for s in range(0, S): \n",
    "        x = xmin + s/S * abs(xmin-xmax)\n",
    "        y = ymin + true_samples[s]/S * abs(ymin-ymax)\n",
    "        c = x + 1j*y\n",
    "        if(mandelbrot(c, MAXITER) == 0): \n",
    "            hits += 1\n",
    "    estimated_area = (hits / S) * (abs(xmin - xmax) * abs(ymin - ymax))\n",
    "    return estimated_area"
   ]
  },
  {
   "cell_type": "code",
   "execution_count": 126,
   "metadata": {},
   "outputs": [
    {
     "data": {
      "text/plain": [
       "1.5207300000000001"
      ]
     },
     "execution_count": 126,
     "metadata": {},
     "output_type": "execute_result"
    }
   ],
   "source": [
    "S, MAXITER = 100000, 300\n",
    "SPLITS = 20  #The amount of cells in x- and y-direction. In total we'll have SPLITS^2 subcells.\n",
    "xmin, xmax, ymin, ymax = -2, 1, -1.5, 1.5\n",
    "ortho_hit_miss(S, MAXITER, xmin, xmax, ymin, ymax, SPLITS)"
   ]
  }
 ],
 "metadata": {
  "kernelspec": {
   "display_name": "Python 3",
   "language": "python",
   "name": "python3"
  },
  "language_info": {
   "codemirror_mode": {
    "name": "ipython",
    "version": 3
   },
   "file_extension": ".py",
   "mimetype": "text/x-python",
   "name": "python",
   "nbconvert_exporter": "python",
   "pygments_lexer": "ipython3",
   "version": "3.7.0"
  }
 },
 "nbformat": 4,
 "nbformat_minor": 2
}
