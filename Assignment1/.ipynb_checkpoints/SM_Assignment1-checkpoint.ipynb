{
 "cells": [
  {
   "cell_type": "markdown",
   "metadata": {},
   "source": [
    "# Stochastic Simulation -- Asignment 1\n",
    "## Walter Vianen -- 11811293\n",
    "## Daan van Ingen -- 10345078"
   ]
  },
  {
   "cell_type": "code",
   "execution_count": 2,
   "metadata": {},
   "outputs": [],
   "source": [
    "# Import packages\n",
    "from matplotlib import pyplot as plt\n",
    "from matplotlib import colors\n",
    "from mpl_toolkits.mplot3d import Axes3D\n",
    "from scipy import stats\n",
    "from numba import jit\n",
    "from tqdm import tqdm\n",
    "import numpy as np\n",
    "import pandas as pd\n",
    "import math\n",
    "import itertools\n",
    "import random"
   ]
  },
  {
   "cell_type": "code",
   "execution_count": 2,
   "metadata": {},
   "outputs": [],
   "source": [
    "MAXITER = 300\n",
    "CMAP = 'gnuplot2'\n",
    "DPI = 300"
   ]
  },
  {
   "cell_type": "code",
   "execution_count": 3,
   "metadata": {},
   "outputs": [],
   "source": [
    "# Functions needed to compute the Mandelbrot set (adapted from https://gist.github.com/jfpuget/60e07a82dece69b011bb)\n",
    "@jit\n",
    "def mandelbrot(c, maxiter):\n",
    "    z = c\n",
    "    for n in range(maxiter):\n",
    "        if abs(z) > 3:\n",
    "            return n\n",
    "        z = z*z + c\n",
    "    return 0\n",
    "\n",
    "@jit\n",
    "def mandelbrot_set(xmin, xmax, ymin, ymax, width, height, maxiter):\n",
    "    r1 = np.linspace(xmin, xmax, width)\n",
    "    r2 = np.linspace(ymin, ymax, height)\n",
    "    n3 = np.empty((width, height))\n",
    "    for i in range(width):\n",
    "        for j in range(height):\n",
    "            n3[i,j] = mandelbrot(r1[i] + 1j*r2[j], maxiter)\n",
    "    return (r1, r2, n3)\n",
    "\n",
    "def mandelbrot_image(xmin, xmax, ymin, ymax, width, height, maxiter, cmap):\n",
    "    img_width = DPI * width\n",
    "    img_height = DPI * height\n",
    "    x,y,z = mandelbrot_set(xmin ,xmax, ymin, ymax, img_width, img_height, maxiter)\n",
    "    \n",
    "    fig, ax = plt.subplots(figsize=(width, height), dpi=DPI)\n",
    "    ticks = np.arange(0, img_width+1, int(img_width/4))\n",
    "    x_ticks = xmin + (xmax-xmin)*ticks/img_width\n",
    "    plt.xticks(ticks, x_ticks)\n",
    "    y_ticks = ymin + (ymax-ymin)*ticks/img_width\n",
    "    plt.yticks(ticks, y_ticks)\n",
    "    \n",
    "    norm = colors.PowerNorm(0.5)\n",
    "    ax.imshow(z.T, cmap=cmap, origin='lower', norm=norm)\n",
    "    plt.show()"
   ]
  },
  {
   "cell_type": "code",
   "execution_count": null,
   "metadata": {},
   "outputs": [],
   "source": [
    "# Plot Mandelbrot Set (with different zoom)\n",
    "# mandelbrot_image(-2, 1, -1.5, 1.5, 5, 5, maxiter = MAXITER, cmap=CMAP)\n",
    "\n",
    "# mandelbrot_image(-1.5, 0, -0.75, 0.75, 5, 5, maxiter = MAXITER, cmap=CMAP)\n",
    "\n",
    "# mandelbrot_image(-1.0, -0.5, 0, 0.5, 5, 5, maxiter = MAXITER, cmap=CMAP)\n",
    "\n",
    "# mandelbrot_image(-0.8, -0.7, 0.2, 0.3, 5, 5, maxiter = MAXITER, cmap=CMAP)\n",
    "\n",
    "# mandelbrot_image(-0.76, -0.70, 0.20, 0.26, 5, 5, maxiter = MAXITER, cmap=CMAP)\n",
    "\n",
    "# mandelbrot_image(-0.75, -0.73, 0.20, 0.22, 5, 5, maxiter = MAXITER, cmap=CMAP)"
   ]
  },
  {
   "cell_type": "code",
   "execution_count": 11,
   "metadata": {},
   "outputs": [],
   "source": [
    "@jit\n",
    "def random_hit_miss(S, MAXITER, xmin, xmax, ymin, ymax): \n",
    "    hits = 0\n",
    "    for s in range(0, S): \n",
    "        x = random.uniform(xmin, xmax)\n",
    "        y = random.uniform(ymin, ymax)\n",
    "        c = x + 1j*y\n",
    "        if(mandelbrot(c, MAXITER) == 0): \n",
    "            hits += 1\n",
    "    estimated_area = (hits / S) * (abs(xmin - xmax) * abs(ymin - ymax))\n",
    "    return estimated_area"
   ]
  },
  {
   "cell_type": "code",
   "execution_count": 31,
   "metadata": {},
   "outputs": [
    {
     "name": "stdout",
     "output_type": "stream",
     "text": [
      "1.51245\n"
     ]
    }
   ],
   "source": [
    "S, MAXITER = 100000, 300\n",
    "xmin, xmax, ymin, ymax = -2, 1, -1.5, 1.5\n",
    "print(random_hit_miss(S, MAXITER, xmin, xmax, ymin, ymax))"
   ]
  },
  {
   "cell_type": "code",
   "execution_count": 90,
   "metadata": {},
   "outputs": [],
   "source": [
    "@jit\n",
    "def LHS_hit_miss(S, MAXITER, xmin, xmax, ymin, ymax):\n",
    "    \"\"\"\n",
    "    Representation of samples is as follows: \n",
    "    The index of samples refers to which x-value the point will get, hence the column in the grid.\n",
    "    The value at samples[index] refers to which y-value the point wil get, hence the row in the grid.\n",
    "    Samples is a permutation of the numbers 0 through S-1. \n",
    "    This automatically enforces the LHS constraints by design.    \n",
    "    \"\"\"\n",
    "    samples = np.arange(0, S)\n",
    "    random.shuffle(samples)\n",
    "    hits = 0\n",
    "    for s in range(0, S): \n",
    "        x = xmin + s/S * abs(xmin-xmax)\n",
    "        y = ymin + samples[s]/S * abs(ymin-ymax)\n",
    "        c = x + 1j*y\n",
    "        if(mandelbrot(c, MAXITER) == 0): \n",
    "            hits += 1\n",
    "    estimated_area = (hits / S) * (abs(xmin - xmax) * abs(ymin - ymax))\n",
    "    return estimated_area"
   ]
  },
  {
   "cell_type": "code",
   "execution_count": 106,
   "metadata": {},
   "outputs": [
    {
     "data": {
      "text/plain": [
       "1.51965"
      ]
     },
     "execution_count": 106,
     "metadata": {},
     "output_type": "execute_result"
    }
   ],
   "source": [
    "S, MAXITER = 100000, 300\n",
    "xmin, xmax, ymin, ymax = -2, 1, -1.5, 1.5\n",
    "LHS_hit_miss(S, MAXITER, xmin, xmax, ymin, ymax)"
   ]
  }
 ],
 "metadata": {
  "kernelspec": {
   "display_name": "Python 3",
   "language": "python",
   "name": "python3"
  },
  "language_info": {
   "codemirror_mode": {
    "name": "ipython",
    "version": 3
   },
   "file_extension": ".py",
   "mimetype": "text/x-python",
   "name": "python",
   "nbconvert_exporter": "python",
   "pygments_lexer": "ipython3",
   "version": "3.7.0"
  }
 },
 "nbformat": 4,
 "nbformat_minor": 2
}
