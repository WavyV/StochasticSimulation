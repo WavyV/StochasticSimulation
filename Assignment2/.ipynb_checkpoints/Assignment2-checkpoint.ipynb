{
 "cells": [
  {
   "cell_type": "code",
   "execution_count": 18,
   "metadata": {},
   "outputs": [],
   "source": [
    "import random\n",
    "import simpy"
   ]
  },
  {
   "cell_type": "code",
   "execution_count": 19,
   "metadata": {},
   "outputs": [],
   "source": [
    "SEED = 9999\n",
    "random.seed(SEED)"
   ]
  },
  {
   "cell_type": "code",
   "execution_count": 43,
   "metadata": {},
   "outputs": [
    {
     "name": "stdout",
     "output_type": "stream",
     "text": [
      "[2.7966731698279106, 5.37992942034267, 10.659481559594823, 13.711045715048787, 21.209908230260893, 24.21982391180446, 31.626543003130486, 52.384295966162995, 56.8023722003412, 80.93243821434581, 113.46677299625217, 117.56521698753157, 139.46667794606358, 144.76747384864785, 153.0039488358299, 157.78877977437492, 170.6134229415906, 221.06036021364017, 222.29615110388727, 229.47575405395415, 231.1379623359863, 248.56896263962665, 252.1762820266164, 259.26366116750523, 260.029763265384, 264.2607077009419, 278.15774986305826, 281.13074386497243, 290.115869554717, 292.32455945116743, 303.1985790820127, 320.392490095831, 327.65193981018, 357.8740169740446, 361.28185049064996, 363.3032473658215, 389.8549996487274, 408.0415145919971, 415.60868714165235, 415.8769441190212, 423.7220013705354, 426.1602194644506, 491.43589417193994, 511.20709910259325, 514.7974047001484, 515.9086888349761, 532.0857824330366, 535.2194745325161, 544.615945777245, 548.424102445488, 551.9838801075294, 564.5915291190532, 596.734490518064, 597.9657706745746, 602.4904483620281, 613.8979467947173, 625.3301665319406, 631.3974370863948, 664.3691178797408, 666.0070323274887, 685.0747609935216, 695.5663922752723, 704.9847821459218, 706.7699078093453, 717.9576736988041, 722.907490221835, 731.7387944664567, 768.129017090088, 773.9661011410583, 793.5236519785554, 797.818294094083, 801.4547017613224, 802.2103567545392, 804.1851058223135, 844.7153135802006, 856.6203674731416, 876.461693978295, 886.3870186977905, 900.1339270031544, 902.430320601316, 905.7611803899101, 906.1869383746991, 973.4814939697451, 998.7560362554203, 999.4761984645244, 1004.1590182427994, 1035.2414214274938, 1041.1710495501486, 1044.8903245562415, 1054.1729921831907, 1077.6296017367415, 1088.9498140306725, 1090.6342477220226, 1098.398635466986, 1109.968318515897, 1117.7963272656336, 1120.214672035862, 1123.4909693439524, 1124.2338704890394, 1126.126598458315]\n"
     ]
    }
   ],
   "source": [
    "class Source(object):\n",
    "    ''' Generate the customers comming into the system with some exponetially distributed interval time.\n",
    "    '''\n",
    "    def __init__(self, env, numCustomers, interval, serveTime, server):\n",
    "        self.env = env\n",
    "        self.numCustomers = numCustomers\n",
    "        self.interval = interval\n",
    "        self.serveTime = serveTime\n",
    "        self.server = server\n",
    "        self.action = env.process(self.run())\n",
    "    \n",
    "    def run(self):\n",
    "        ''' Create n customers and timeout after each creation\n",
    "        '''\n",
    "        for i in range(1, self.numCustomers+1):\n",
    "            customer = Customer(self.env, i, self.server, self.serveTime)\n",
    "            timeUntillNext = random.expovariate(1. / self.interval)\n",
    "            yield self.env.timeout(timeUntillNext)\n",
    "\n",
    "class Customer(object):\n",
    "    ''' Customers request the passed resource if they can make use of an open service.\n",
    "        They are then served which takes some exponentially distributed time.\n",
    "    '''\n",
    "    def __init__(self, env, number, server, serveTime):\n",
    "        self.env = env\n",
    "        self.number = number\n",
    "        self.server = server\n",
    "        self.serveTime = serveTime\n",
    "        self.action = env.process(self.run())\n",
    "    \n",
    "    def run(self):\n",
    "        ''' Create a service request and use it once it becomes available\n",
    "        '''\n",
    "#         print('customer %d starts at %d' % (self.number, self.env.now))\n",
    "        with self.server.request() as req:\n",
    "            yield req\n",
    "#             print('customer %d served at %d' % (self.number, self.env.now))\n",
    "            yield self.env.timeout(random.expovariate(1./self.serveTime))\n",
    "            results.append(self.env.now)\n",
    "#             print('customer %d done at %d' % (self.number, self.env.now))\n",
    "\n",
    "results = []\n",
    "CUSTOMERS = 100\n",
    "CAPACITY = 1\n",
    "MU = 10.0\n",
    "LAMBDA = 2.\n",
    "# MU = LAMBDA / CAPACITY + .1\n",
    "env = simpy.Environment()\n",
    "server = simpy.Resource(env, capacity=1)\n",
    "source = Source(env, CUSTOMERS, LAMBDA, MU, server)\n",
    "env.run()\n",
    "print(results)"
   ]
  }
 ],
 "metadata": {
  "kernelspec": {
   "display_name": "Python 3",
   "language": "python",
   "name": "python3"
  },
  "language_info": {
   "codemirror_mode": {
    "name": "ipython",
    "version": 3
   },
   "file_extension": ".py",
   "mimetype": "text/x-python",
   "name": "python",
   "nbconvert_exporter": "python",
   "pygments_lexer": "ipython3",
   "version": "3.5.2"
  }
 },
 "nbformat": 4,
 "nbformat_minor": 2
}
