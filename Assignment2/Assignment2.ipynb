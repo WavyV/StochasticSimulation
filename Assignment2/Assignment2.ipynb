{
 "cells": [
  {
   "cell_type": "code",
   "execution_count": 60,
   "metadata": {},
   "outputs": [],
   "source": [
    "import random\n",
    "import simpy\n",
    "import matplotlib.pyplot as plt"
   ]
  },
  {
   "cell_type": "code",
   "execution_count": 19,
   "metadata": {},
   "outputs": [],
   "source": [
    "SEED = 9999\n",
    "random.seed(SEED)"
   ]
  },
  {
   "cell_type": "code",
   "execution_count": 65,
   "metadata": {},
   "outputs": [
    {
     "data": {
      "image/png": "[encoded data removed]",
      "text/plain": [
       "<matplotlib.figure.Figure at 0x7f3384151da0>"
      ]
     },
     "metadata": {
      "needs_background": "light"
     },
     "output_type": "display_data"
    }
   ],
   "source": [
    "class Source(object):\n",
    "    ''' Generate the customers comming into the system with some exponetially distributed interval time.\n",
    "    '''\n",
    "    def __init__(self, env, numCustomers, interval, serveTime, server):\n",
    "        self.env = env\n",
    "        self.numCustomers = numCustomers\n",
    "        self.interval = interval\n",
    "        self.serveTime = serveTime\n",
    "        self.server = server\n",
    "        self.action = env.process(self.run())\n",
    "    \n",
    "    def run(self):\n",
    "        ''' Create n customers and timeout after each creation\n",
    "        '''\n",
    "        for i in range(1, self.numCustomers+1):\n",
    "            customer = Customer(self.env, i, self.server, self.serveTime)\n",
    "            timeUntillNext = random.expovariate(1. / self.interval)\n",
    "            yield self.env.timeout(timeUntillNext)\n",
    "\n",
    "class Customer(object):\n",
    "    ''' Customers request the passed resource if they can make use of an open service.\n",
    "        They are then served which takes some exponentially distributed time.\n",
    "    '''\n",
    "    def __init__(self, env, number, server, serveTime):\n",
    "        self.env = env\n",
    "        self.number = number\n",
    "        self.server = server\n",
    "        self.serveTime = serveTime\n",
    "        self.action = env.process(self.run())\n",
    "    \n",
    "    def run(self):\n",
    "        ''' Create a service request and use it once it becomes available\n",
    "        '''\n",
    "#         print('customer %d starts at %d' % (self.number, self.env.now))\n",
    "        with self.server.request() as req:\n",
    "            yield req\n",
    "#             print('customer %d served at %d' % (self.number, self.env.now))\n",
    "            yield self.env.timeout(random.expovariate(1./self.serveTime))\n",
    "            results.append(self.env.now)\n",
    "#             print('customer %d done at %d' % (self.number, self.env.now))\n",
    "\n",
    "CUSTOMERS = 1000\n",
    "CAPACITY = [1,2,4]\n",
    "REPS = 50\n",
    "plt.figure()\n",
    "for cap in CAPACITY:\n",
    "    tot\n",
    "    for _ in range(REPS):\n",
    "        results = []\n",
    "        MU = 12.0\n",
    "        LAMBDA = 9.\n",
    "        # MU = LAMBDA / CAPACITY + .1\n",
    "        env = simpy.Environment()\n",
    "        server = simpy.Resource(env, capacity=cap)\n",
    "        source = Source(env, CUSTOMERS, LAMBDA, MU, server)\n",
    "        env.run()\n",
    "    plt.hist(results, bins=20, alpha=0.5, label=\"servers = \" + str(cap))\n",
    "\n",
    "plt.legend()\n",
    "plt.show()"
   ]
  }
 ],
 "metadata": {
  "kernelspec": {
   "display_name": "Python 3",
   "language": "python",
   "name": "python3"
  },
  "language_info": {
   "codemirror_mode": {
    "name": "ipython",
    "version": 3
   },
   "file_extension": ".py",
   "mimetype": "text/x-python",
   "name": "python",
   "nbconvert_exporter": "python",
   "pygments_lexer": "ipython3",
   "version": "3.5.2"
  }
 },
 "nbformat": 4,
 "nbformat_minor": 2
}
