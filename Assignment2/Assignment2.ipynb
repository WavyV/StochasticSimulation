{
 "cells": [
  {
   "cell_type": "code",
   "execution_count": 80,
   "metadata": {},
   "outputs": [],
   "source": [
    "import random\n",
    "import simpy\n",
    "import matplotlib.pyplot as plt\n",
    "import numpy as np"
   ]
  },
  {
   "cell_type": "code",
   "execution_count": 81,
   "metadata": {},
   "outputs": [],
   "source": [
    "SEED = 9999\n",
    "random.seed(SEED)"
   ]
  },
  {
   "cell_type": "code",
   "execution_count": 115,
   "metadata": {},
   "outputs": [
    {
     "data": {
      "image/png": "[encoded data removed]",
      "text/plain": [
       "<matplotlib.figure.Figure at 0x7f33862d01d0>"
      ]
     },
     "metadata": {
      "needs_background": "light"
     },
     "output_type": "display_data"
    },
    {
     "name": "stdout",
     "output_type": "stream",
     "text": [
      "[10280.933184802863, 5163.766663016872, 2511.0152036969434]\n"
     ]
    }
   ],
   "source": [
    "class Source(object):\n",
    "    ''' Generate the customers comming into the system with some exponetially distributed interval time.\n",
    "    '''\n",
    "    def __init__(self, env, numCustomers, interval, serveTime, server):\n",
    "        self.env = env\n",
    "        self.numCustomers = numCustomers\n",
    "        self.interval = interval\n",
    "        self.serveTime = serveTime\n",
    "        self.server = server\n",
    "        self.action = env.process(self.run())\n",
    "    \n",
    "    def run(self):\n",
    "        ''' Create n customers and timeout after each creation\n",
    "        '''\n",
    "        for i in range(1, self.numCustomers+1):\n",
    "            customer = Customer(self.env, i, self.server, self.serveTime)\n",
    "            timeUntillNext = random.expovariate(1. / self.interval)\n",
    "            yield self.env.timeout(timeUntillNext)\n",
    "\n",
    "class Customer(object):\n",
    "    ''' Customers request the passed resource if they can make use of an open service.\n",
    "        They are then served which takes some exponentially distributed time.\n",
    "    '''\n",
    "    def __init__(self, env, number, server, serveTime):\n",
    "        self.env = env\n",
    "        self.number = number\n",
    "        self.server = server\n",
    "        self.serveTime = serveTime\n",
    "        self.action = env.process(self.run())\n",
    "    \n",
    "    def run(self):\n",
    "        ''' Create a service request and use it once it becomes available\n",
    "        '''\n",
    "        arrival = self.env.now\n",
    "#         print('customer %d starts at %d' % (self.number, self.env.now))\n",
    "        with self.server.request() as req:\n",
    "            yield req\n",
    "            results.append(self.env.now-arrival)\n",
    "#             print('customer %d served at %d' % (self.number, self.env.now))\n",
    "            yield self.env.timeout(random.expovariate(1./self.serveTime))\n",
    "#             print('customer %d done at %d' % (self.number, self.env.now))\n",
    "\n",
    "customers = 1000\n",
    "capacity = [1,2,4]\n",
    "reps = 100\n",
    "rho = 0.9\n",
    "serviceTime = 10.0\n",
    "arrival = 9.9\n",
    "means = []\n",
    "plt.figure()\n",
    "for cap in capacity:\n",
    "    totalResults = []\n",
    "    arrival /= cap\n",
    "    for _ in range(reps):\n",
    "        results = []\n",
    "        env = simpy.Environment()\n",
    "        server = simpy.Resource(env, capacity=cap)\n",
    "        source = Source(env, customers, arrival, serviceTime, server)\n",
    "        env.run()\n",
    "        totalResults.append(env.now)\n",
    "    means.append(np.mean(totalResults))\n",
    "    plt.hist(totalResults, bins=20, alpha=0.5, label=\"servers = \" + str(cap))\n",
    "#     plt.plot([means[-1], means[-1]], [0, 50], scaley=False, linestyle=\"--\", label=\"mean n=\" + str(cap))\n",
    "plt.legend()\n",
    "plt.show()\n",
    "print(means)"
   ]
  },
  {
   "cell_type": "code",
   "execution_count": 123,
   "metadata": {},
   "outputs": [
    {
     "name": "stdout",
     "output_type": "stream",
     "text": [
      "9.9 10.0 1\n",
      "4.95 10.0 2\n",
      "2.475 10.0 4\n"
     ]
    },
    {
     "data": {
      "image/png": "[encoded data removed]",
      "text/plain": [
       "<matplotlib.figure.Figure at 0x7f3384043160>"
      ]
     },
     "metadata": {
      "needs_background": "light"
     },
     "output_type": "display_data"
    },
    {
     "name": "stdout",
     "output_type": "stream",
     "text": [
      "[247.0229234371569, 124.24927451660473, 61.578705503541535]\n"
     ]
    }
   ],
   "source": [
    "customers = 1000\n",
    "capacity = [1,2,4]\n",
    "reps = 1000\n",
    "rho = 0.9\n",
    "serviceTime = 10.0\n",
    "arrival = 9.9\n",
    "means = []\n",
    "plt.figure()\n",
    "for cap in capacity:\n",
    "    totalResults = []\n",
    "    newArrival = arrival/cap\n",
    "    print(newArrival, serviceTime, cap)\n",
    "    for _ in range(reps):\n",
    "        results = []\n",
    "        env = simpy.Environment()\n",
    "        server = simpy.Resource(env, capacity=cap)\n",
    "        source = Source(env, customers, newArrival, serviceTime, server)\n",
    "        env.run()\n",
    "        totalResults.append(np.mean(results))\n",
    "    means.append(np.mean(totalResults))\n",
    "    plt.hist(totalResults, bins=20, alpha=0.5, label=\"servers = \" + str(cap))\n",
    "#     plt.plot([means[-1], means[-1]], [0, 50], scaley=False, linestyle=\"--\", label=\"mean n=\" + str(cap))\n",
    "plt.legend()\n",
    "plt.title(\"Mean waiting time distribution\")\n",
    "plt.show()\n",
    "print(means)"
   ]
  }
 ],
 "metadata": {
  "kernelspec": {
   "display_name": "Python 3",
   "language": "python",
   "name": "python3"
  },
  "language_info": {
   "codemirror_mode": {
    "name": "ipython",
    "version": 3
   },
   "file_extension": ".py",
   "mimetype": "text/x-python",
   "name": "python",
   "nbconvert_exporter": "python",
   "pygments_lexer": "ipython3",
   "version": "3.5.2"
  }
 },
 "nbformat": 4,
 "nbformat_minor": 2
}
