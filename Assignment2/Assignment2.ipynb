{
 "cells": [
  {
   "cell_type": "code",
   "execution_count": 1,
   "metadata": {},
   "outputs": [],
   "source": [
    "import random\n",
    "import simpy\n",
    "import matplotlib.pyplot as plt\n",
    "import numpy as np"
   ]
  },
  {
   "cell_type": "code",
   "execution_count": 3,
   "metadata": {
    "scrolled": false
   },
   "outputs": [],
   "source": [
    "class Source(object):\n",
    "    ''' Generate the customers comming into the system with some exponetially distributed interval time.\n",
    "    '''\n",
    "    def __init__(self, env, numCustomers, interval, serveTime, server):\n",
    "        self.env = env\n",
    "        self.numCustomers = numCustomers\n",
    "        self.interval = interval\n",
    "        self.serveTime = serveTime\n",
    "        self.server = server\n",
    "        self.action = env.process(self.run())\n",
    "    \n",
    "    def run(self):\n",
    "        ''' Create n customers and timeout after each creation\n",
    "        '''\n",
    "        for i in range(1, self.numCustomers+1):\n",
    "            customer = Customer(self.env, i, self.server, self.serveTime)\n",
    "            timeUntillNext = random.expovariate(1. / self.interval)\n",
    "            yield self.env.timeout(timeUntillNext)\n",
    "\n",
    "class Customer(object):\n",
    "    ''' Customers request the passed resource if they can make use of an open service.\n",
    "        They are then served which takes some exponentially distributed time.\n",
    "    '''\n",
    "    def __init__(self, env, number, server, serveTime):\n",
    "        self.env = env\n",
    "        self.number = number\n",
    "        self.server = server\n",
    "        self.serveTime = serveTime\n",
    "        self.action = env.process(self.run())\n",
    "    \n",
    "    def run(self):\n",
    "        ''' Create a service request and use it once it becomes available\n",
    "        '''\n",
    "        arrival = self.env.now\n",
    "#         print('customer %d starts at %d' % (self.number, self.env.now))\n",
    "        with self.server.request() as req:\n",
    "            yield req\n",
    "            results.append(self.env.now-arrival)\n",
    "#             print('customer %d served at %d' % (self.number, self.env.now))\n",
    "            yield self.env.timeout(random.expovariate(1./self.serveTime))\n",
    "#             print('customer %d done at %d' % (self.number, self.env.now))\n",
    "\n",
    "# customers = 1000\n",
    "# capacity = [1,2,4]\n",
    "# reps = 100\n",
    "# rho = 0.9\n",
    "# serviceTime = 10.0\n",
    "# arrival = 9.9\n",
    "# means = []\n",
    "# plt.figure()\n",
    "# for cap in capacity:\n",
    "#     totalResults = []\n",
    "#     arrival /= cap\n",
    "#     for _ in range(reps):\n",
    "#         results = []\n",
    "#         env = simpy.Environment()\n",
    "#         server = simpy.Resource(env, capacity=cap)\n",
    "#         source = Source(env, customers, arrival, serviceTime, server)\n",
    "#         env.run()\n",
    "#         totalResults.append(env.now)\n",
    "#     means.append(np.mean(totalResults))\n",
    "#     plt.hist(totalResults, bins=20, alpha=0.5, label=\"servers = \" + str(cap))\n",
    "# #     plt.plot([means[-1], means[-1]], [0, 50], scaley=False, linestyle=\"--\", label=\"mean n=\" + str(cap))\n",
    "# plt.legend()\n",
    "# plt.show()\n",
    "# print(means)"
   ]
  },
  {
   "cell_type": "code",
   "execution_count": 22,
   "metadata": {},
   "outputs": [
    {
     "name": "stdout",
     "output_type": "stream",
     "text": [
      "10.0 9.0 1\n",
      "5.0 9.0 2\n",
      "2.5 9.0 4\n"
     ]
    },
    {
     "data": {
      "image/png": "[encoded data removed]",
      "text/plain": [
       "<matplotlib.figure.Figure at 0x7f2b5041f6d8>"
      ]
     },
     "metadata": {
      "needs_background": "light"
     },
     "output_type": "display_data"
    },
    {
     "name": "stdout",
     "output_type": "stream",
     "text": [
      "[74.27097522117207, 34.65176962818491, 15.322818074475208]\n"
     ]
    },
    {
     "data": {
      "image/png": "[encoded data removed]",
      "text/plain": [
       "<matplotlib.figure.Figure at 0x7f2b50d57d30>"
      ]
     },
     "metadata": {
      "needs_background": "light"
     },
     "output_type": "display_data"
    }
   ],
   "source": [
    "SEED = 9999\n",
    "random.seed(SEED)\n",
    "\n",
    "customers = 1000\n",
    "capacity = [1,2,4]\n",
    "reps = 1000\n",
    "serviceTime = 9.0\n",
    "arrival = 10.\n",
    "means, std, maxwait = [], [], []\n",
    "plt.figure(figsize=(10,6))\n",
    "for cap in capacity:\n",
    "    totalResults = []\n",
    "    newArrival = arrival/cap\n",
    "    print(newArrival, serviceTime, cap)\n",
    "    for _ in range(reps):\n",
    "        results = []\n",
    "        env = simpy.Environment()\n",
    "        server = simpy.Resource(env, capacity=cap)\n",
    "        source = Source(env, customers, newArrival, serviceTime, server)\n",
    "        env.run()\n",
    "        totalResults.append(np.mean(results))\n",
    "        maxwait.append(np.max(results))\n",
    "    means.append(np.mean(totalResults))\n",
    "    std.append(np.std(totalResults))\n",
    "    plt.hist(totalResults, bins=40, alpha=0.5, label=\"servers = \" + str(cap))\n",
    "#     plt.plot([means[-1], means[-1]], [0, 50], scaley=False, linestyle=\"--\", label=\"mean n=\" + str(cap))\n",
    "plt.legend(loc=1)\n",
    "plt.title(\"Mean waiting time distribution\")\n",
    "plt.xlabel(\"Waiting time\")\n",
    "plt.ylabel(\"Count\")\n",
    "plt.text(250, 120, \"$\\mu_1=\"+str(round(means[0]))+\", \\sigma_1=\"+str(round(std[0]))+\"$\", fontsize=12)\n",
    "plt.text(250, 100, \"$\\mu_2=\"+str(round(means[1]))+\", \\sigma_2=\"+str(round(std[1]))+\"$\", fontsize=12)\n",
    "plt.text(250, 80, \"$\\mu_4=\"+str(round(means[2]))+\", \\sigma_4=\"+str(round(std[2]))+\"$\", fontsize=12)\n",
    "plt.show()\n",
    "print(means)\n",
    "\n",
    "plt.figure(figsize=(10,6))\n",
    "plt.title(\"Max waiting time distribution\")\n",
    "plt.xlabel(\"Time\")\n",
    "plt.ylabel(\"Count\")\n",
    "plt.hist(maxwait, bins=100)\n",
    "plt.show()"
   ]
  },
  {
   "cell_type": "code",
   "execution_count": 157,
   "metadata": {},
   "outputs": [
    {
     "name": "stdout",
     "output_type": "stream",
     "text": [
      "1.0 10\n",
      "0.6666666666666666 10\n",
      "0.5 10\n",
      "0.4 10\n",
      "0.3333333333333333 10\n",
      "0.2857142857142857 10\n",
      "0.25 10\n",
      "0.2222222222222222 10\n",
      "0.2 10\n",
      "0.18181818181818185 10\n",
      "0.16666666666666666 10\n"
     ]
    },
    {
     "ename": "KeyboardInterrupt",
     "evalue": "",
     "output_type": "error",
     "traceback": [
      "\u001b[0;31m---------------------------------------------------------------------------\u001b[0m",
      "\u001b[0;31mKeyboardInterrupt\u001b[0m                         Traceback (most recent call last)",
      "\u001b[0;32m<ipython-input-157-c36310821c65>\u001b[0m in \u001b[0;36m<module>\u001b[0;34m()\u001b[0m\n\u001b[1;32m     15\u001b[0m         \u001b[0mserver\u001b[0m \u001b[0;34m=\u001b[0m \u001b[0msimpy\u001b[0m\u001b[0;34m.\u001b[0m\u001b[0mResource\u001b[0m\u001b[0;34m(\u001b[0m\u001b[0menv\u001b[0m\u001b[0;34m,\u001b[0m \u001b[0mcapacity\u001b[0m\u001b[0;34m=\u001b[0m\u001b[0;36m1\u001b[0m\u001b[0;34m)\u001b[0m\u001b[0;34m\u001b[0m\u001b[0m\n\u001b[1;32m     16\u001b[0m         \u001b[0msource\u001b[0m \u001b[0;34m=\u001b[0m \u001b[0mSource\u001b[0m\u001b[0;34m(\u001b[0m\u001b[0menv\u001b[0m\u001b[0;34m,\u001b[0m \u001b[0mcustomers\u001b[0m\u001b[0;34m,\u001b[0m \u001b[0mnewArrival\u001b[0m\u001b[0;34m,\u001b[0m \u001b[0mserviceTime\u001b[0m\u001b[0;34m,\u001b[0m \u001b[0mserver\u001b[0m\u001b[0;34m)\u001b[0m\u001b[0;34m\u001b[0m\u001b[0m\n\u001b[0;32m---> 17\u001b[0;31m         \u001b[0menv\u001b[0m\u001b[0;34m.\u001b[0m\u001b[0mrun\u001b[0m\u001b[0;34m(\u001b[0m\u001b[0;34m)\u001b[0m\u001b[0;34m\u001b[0m\u001b[0m\n\u001b[0m\u001b[1;32m     18\u001b[0m         \u001b[0mtotalResults\u001b[0m\u001b[0;34m.\u001b[0m\u001b[0mappend\u001b[0m\u001b[0;34m(\u001b[0m\u001b[0mnp\u001b[0m\u001b[0;34m.\u001b[0m\u001b[0mmean\u001b[0m\u001b[0;34m(\u001b[0m\u001b[0mresults\u001b[0m\u001b[0;34m)\u001b[0m\u001b[0;34m)\u001b[0m\u001b[0;34m\u001b[0m\u001b[0m\n\u001b[1;32m     19\u001b[0m     \u001b[0mmeans\u001b[0m\u001b[0;34m.\u001b[0m\u001b[0mappend\u001b[0m\u001b[0;34m(\u001b[0m\u001b[0mnp\u001b[0m\u001b[0;34m.\u001b[0m\u001b[0mmean\u001b[0m\u001b[0;34m(\u001b[0m\u001b[0mtotalResults\u001b[0m\u001b[0;34m)\u001b[0m\u001b[0;34m)\u001b[0m\u001b[0;34m\u001b[0m\u001b[0m\n",
      "\u001b[0;32m~/.environments/py3env/lib/python3.5/site-packages/simpy/core.py\u001b[0m in \u001b[0;36mrun\u001b[0;34m(self, until)\u001b[0m\n\u001b[1;32m    136\u001b[0m         \u001b[0;32mtry\u001b[0m\u001b[0;34m:\u001b[0m\u001b[0;34m\u001b[0m\u001b[0m\n\u001b[1;32m    137\u001b[0m             \u001b[0;32mwhile\u001b[0m \u001b[0;32mTrue\u001b[0m\u001b[0;34m:\u001b[0m\u001b[0;34m\u001b[0m\u001b[0m\n\u001b[0;32m--> 138\u001b[0;31m                 \u001b[0mself\u001b[0m\u001b[0;34m.\u001b[0m\u001b[0mstep\u001b[0m\u001b[0;34m(\u001b[0m\u001b[0;34m)\u001b[0m\u001b[0;34m\u001b[0m\u001b[0m\n\u001b[0m\u001b[1;32m    139\u001b[0m         \u001b[0;32mexcept\u001b[0m \u001b[0mStopSimulation\u001b[0m \u001b[0;32mas\u001b[0m \u001b[0mexc\u001b[0m\u001b[0;34m:\u001b[0m\u001b[0;34m\u001b[0m\u001b[0m\n\u001b[1;32m    140\u001b[0m             \u001b[0;32mreturn\u001b[0m \u001b[0mexc\u001b[0m\u001b[0;34m.\u001b[0m\u001b[0margs\u001b[0m\u001b[0;34m[\u001b[0m\u001b[0;36m0\u001b[0m\u001b[0;34m]\u001b[0m  \u001b[0;31m# == until.value\u001b[0m\u001b[0;34m\u001b[0m\u001b[0m\n",
      "\u001b[0;32m~/.environments/py3env/lib/python3.5/site-packages/simpy/core.py\u001b[0m in \u001b[0;36mstep\u001b[0;34m(self)\u001b[0m\n\u001b[1;32m    220\u001b[0m         \u001b[0mcallbacks\u001b[0m\u001b[0;34m,\u001b[0m \u001b[0mevent\u001b[0m\u001b[0;34m.\u001b[0m\u001b[0mcallbacks\u001b[0m \u001b[0;34m=\u001b[0m \u001b[0mevent\u001b[0m\u001b[0;34m.\u001b[0m\u001b[0mcallbacks\u001b[0m\u001b[0;34m,\u001b[0m \u001b[0;32mNone\u001b[0m\u001b[0;34m\u001b[0m\u001b[0m\n\u001b[1;32m    221\u001b[0m         \u001b[0;32mfor\u001b[0m \u001b[0mcallback\u001b[0m \u001b[0;32min\u001b[0m \u001b[0mcallbacks\u001b[0m\u001b[0;34m:\u001b[0m\u001b[0;34m\u001b[0m\u001b[0m\n\u001b[0;32m--> 222\u001b[0;31m             \u001b[0mcallback\u001b[0m\u001b[0;34m(\u001b[0m\u001b[0mevent\u001b[0m\u001b[0;34m)\u001b[0m\u001b[0;34m\u001b[0m\u001b[0m\n\u001b[0m\u001b[1;32m    223\u001b[0m \u001b[0;34m\u001b[0m\u001b[0m\n\u001b[1;32m    224\u001b[0m         \u001b[0;32mif\u001b[0m \u001b[0;32mnot\u001b[0m \u001b[0mevent\u001b[0m\u001b[0;34m.\u001b[0m\u001b[0m_ok\u001b[0m \u001b[0;32mand\u001b[0m \u001b[0;32mnot\u001b[0m \u001b[0mhasattr\u001b[0m\u001b[0;34m(\u001b[0m\u001b[0mevent\u001b[0m\u001b[0;34m,\u001b[0m \u001b[0;34m'_defused'\u001b[0m\u001b[0;34m)\u001b[0m\u001b[0;34m:\u001b[0m\u001b[0;34m\u001b[0m\u001b[0m\n",
      "\u001b[0;32m~/.environments/py3env/lib/python3.5/site-packages/simpy/resources/base.py\u001b[0m in \u001b[0;36m_trigger_put\u001b[0;34m(self, get_event)\u001b[0m\n\u001b[1;32m    182\u001b[0m         \u001b[0;32mwhile\u001b[0m \u001b[0midx\u001b[0m \u001b[0;34m<\u001b[0m \u001b[0mlen\u001b[0m\u001b[0;34m(\u001b[0m\u001b[0mself\u001b[0m\u001b[0;34m.\u001b[0m\u001b[0mput_queue\u001b[0m\u001b[0;34m)\u001b[0m\u001b[0;34m:\u001b[0m\u001b[0;34m\u001b[0m\u001b[0m\n\u001b[1;32m    183\u001b[0m             \u001b[0mput_event\u001b[0m \u001b[0;34m=\u001b[0m \u001b[0mself\u001b[0m\u001b[0;34m.\u001b[0m\u001b[0mput_queue\u001b[0m\u001b[0;34m[\u001b[0m\u001b[0midx\u001b[0m\u001b[0;34m]\u001b[0m\u001b[0;34m\u001b[0m\u001b[0m\n\u001b[0;32m--> 184\u001b[0;31m             \u001b[0mproceed\u001b[0m \u001b[0;34m=\u001b[0m \u001b[0mself\u001b[0m\u001b[0;34m.\u001b[0m\u001b[0m_do_put\u001b[0m\u001b[0;34m(\u001b[0m\u001b[0mput_event\u001b[0m\u001b[0;34m)\u001b[0m\u001b[0;34m\u001b[0m\u001b[0m\n\u001b[0m\u001b[1;32m    185\u001b[0m             \u001b[0;32mif\u001b[0m \u001b[0;32mnot\u001b[0m \u001b[0mput_event\u001b[0m\u001b[0;34m.\u001b[0m\u001b[0mtriggered\u001b[0m\u001b[0;34m:\u001b[0m\u001b[0;34m\u001b[0m\u001b[0m\n\u001b[1;32m    186\u001b[0m                 \u001b[0midx\u001b[0m \u001b[0;34m+=\u001b[0m \u001b[0;36m1\u001b[0m\u001b[0;34m\u001b[0m\u001b[0m\n",
      "\u001b[0;32m~/.environments/py3env/lib/python3.5/site-packages/simpy/resources/resource.py\u001b[0m in \u001b[0;36m_do_put\u001b[0;34m(self, event)\u001b[0m\n\u001b[1;32m    175\u001b[0m \u001b[0;34m\u001b[0m\u001b[0m\n\u001b[1;32m    176\u001b[0m     \u001b[0;32mdef\u001b[0m \u001b[0m_do_put\u001b[0m\u001b[0;34m(\u001b[0m\u001b[0mself\u001b[0m\u001b[0;34m,\u001b[0m \u001b[0mevent\u001b[0m\u001b[0;34m)\u001b[0m\u001b[0;34m:\u001b[0m\u001b[0;34m\u001b[0m\u001b[0m\n\u001b[0;32m--> 177\u001b[0;31m         \u001b[0;32mif\u001b[0m \u001b[0mlen\u001b[0m\u001b[0;34m(\u001b[0m\u001b[0mself\u001b[0m\u001b[0;34m.\u001b[0m\u001b[0musers\u001b[0m\u001b[0;34m)\u001b[0m \u001b[0;34m<\u001b[0m \u001b[0mself\u001b[0m\u001b[0;34m.\u001b[0m\u001b[0mcapacity\u001b[0m\u001b[0;34m:\u001b[0m\u001b[0;34m\u001b[0m\u001b[0m\n\u001b[0m\u001b[1;32m    178\u001b[0m             \u001b[0mself\u001b[0m\u001b[0;34m.\u001b[0m\u001b[0musers\u001b[0m\u001b[0;34m.\u001b[0m\u001b[0mappend\u001b[0m\u001b[0;34m(\u001b[0m\u001b[0mevent\u001b[0m\u001b[0;34m)\u001b[0m\u001b[0;34m\u001b[0m\u001b[0m\n\u001b[1;32m    179\u001b[0m             \u001b[0mevent\u001b[0m\u001b[0;34m.\u001b[0m\u001b[0musage_since\u001b[0m \u001b[0;34m=\u001b[0m \u001b[0mself\u001b[0m\u001b[0;34m.\u001b[0m\u001b[0m_env\u001b[0m\u001b[0;34m.\u001b[0m\u001b[0mnow\u001b[0m\u001b[0;34m\u001b[0m\u001b[0m\n",
      "\u001b[0;31mKeyboardInterrupt\u001b[0m: "
     ]
    }
   ],
   "source": [
    "customers = 1000\n",
    "reps = 100\n",
    "rho = np.linspace(0.1, 0.95, 18)\n",
    "serviceTime = 10\n",
    "means = []\n",
    "perc25 = []\n",
    "perc75 = []\n",
    "for r in rho:\n",
    "    totalResults = []\n",
    "    newArrival = 100.0/(r*serviceTime)\n",
    "    print(newArrival, serviceTime)\n",
    "    for _ in range(reps):\n",
    "        results = []\n",
    "        env = simpy.Environment()\n",
    "        server = simpy.Resource(env, capacity=1)\n",
    "        source = Source(env, customers, newArrival, serviceTime, server)\n",
    "        env.run()\n",
    "        totalResults.append(np.mean(results))\n",
    "    means.append(np.mean(totalResults))\n",
    "    perc25.append(np.percentile(totalResults, 25))\n",
    "    perc75.append(np.percentile(totalResults, 75))\n",
    "\n",
    "plt.figure()\n",
    "plt.scatter(rho, means)\n",
    "plt.scatter(rho, perc25)\n",
    "plt.scatter(rho, perc75)\n",
    "plt.show()"
   ]
  },
  {
   "cell_type": "markdown",
   "metadata": {},
   "source": [
    "# Shortest job first"
   ]
  },
  {
   "cell_type": "code",
   "execution_count": 24,
   "metadata": {},
   "outputs": [
    {
     "name": "stdout",
     "output_type": "stream",
     "text": [
      "10.0 9.0 1\n",
      "5.0 9.0 2\n",
      "2.5 9.0 4\n"
     ]
    },
    {
     "data": {
      "image/png": "[encoded data removed]",
      "text/plain": [
       "<matplotlib.figure.Figure at 0x7f2b50ccb390>"
      ]
     },
     "metadata": {
      "needs_background": "light"
     },
     "output_type": "display_data"
    },
    {
     "name": "stdout",
     "output_type": "stream",
     "text": [
      "[27.554495287314978, 13.920813028309443, 6.354505786322901]\n"
     ]
    },
    {
     "data": {
      "image/png": "[encoded data removed]",
      "text/plain": [
       "<matplotlib.figure.Figure at 0x7f2b50dbe048>"
      ]
     },
     "metadata": {
      "needs_background": "light"
     },
     "output_type": "display_data"
    }
   ],
   "source": [
    "class sjf_Source(object):\n",
    "    ''' Generate the customers comming into the system with some exponetially distributed interval time.\n",
    "    '''\n",
    "    def __init__(self, env, numCustomers, interval, serveTime, server):\n",
    "        self.env = env\n",
    "        self.numCustomers = numCustomers\n",
    "        self.interval = interval\n",
    "        self.serveTime = serveTime\n",
    "        self.server = server\n",
    "        self.action = env.process(self.run())\n",
    "    \n",
    "    def run(self):\n",
    "        ''' Create n customers and timeout after each creation\n",
    "        '''\n",
    "        for i in range(1, self.numCustomers+1):\n",
    "            customer = sjf_Customer(self.env, i, self.server, self.serveTime)\n",
    "            timeUntillNext = random.expovariate(1. / self.interval)\n",
    "            yield self.env.timeout(timeUntillNext)\n",
    "\n",
    "class sjf_Customer(object):\n",
    "    ''' Customers request the passed resource if they can make use of an open service.\n",
    "        They are then served which takes some exponentially distributed time.\n",
    "    '''\n",
    "    def __init__(self, env, number, server, serveTime):\n",
    "        self.env = env\n",
    "        self.number = number\n",
    "        self.server = server\n",
    "        self.serveTime = random.expovariate(1./serveTime)\n",
    "        self.action = env.process(self.run())\n",
    "    \n",
    "    def run(self):\n",
    "        ''' Create a service request and use it once it becomes available\n",
    "        '''\n",
    "        arrival = self.env.now\n",
    "        with self.server.request(priority=self.serveTime) as req:\n",
    "            yield req\n",
    "            results.append(self.env.now-arrival)\n",
    "            yield self.env.timeout(self.serveTime)\n",
    "#             print('customer %d done at %d' % (self.number, self.env.now))\n",
    "\n",
    "SEED = 9999\n",
    "random.seed(SEED)\n",
    "\n",
    "customers = 1000\n",
    "capacity = [1,2,4]\n",
    "reps = 1000\n",
    "serviceTime = 9.0\n",
    "arrival = 10.\n",
    "means, std, maxwait = [], [], []\n",
    "plt.figure(figsize=(10,6))\n",
    "for cap in capacity:\n",
    "    totalResults = []\n",
    "    newArrival = arrival/cap\n",
    "    print(newArrival, serviceTime, cap)\n",
    "    for _ in range(reps):\n",
    "        results = []\n",
    "        env = simpy.Environment()\n",
    "        server = simpy.PriorityResource(env, capacity=cap)\n",
    "        source = sjf_Source(env, customers, newArrival, serviceTime, server)\n",
    "        env.run()\n",
    "        totalResults.append(np.mean(results))\n",
    "        maxwait.append(np.max(results))\n",
    "    means.append(np.mean(totalResults))\n",
    "    std.append(np.std(totalResults))\n",
    "    plt.hist(totalResults, bins=50, alpha=0.5, label=\"servers = \" + str(cap))\n",
    "#     plt.plot([means[-1], means[-1]], [0, 50], scaley=False, linestyle=\"--\", label=\"mean n=\" + str(cap))\n",
    "plt.legend()\n",
    "plt.title(\"Mean waiting time distribution\")\n",
    "plt.xlabel(\"Waiting time\")\n",
    "plt.ylabel(\"Count\")\n",
    "plt.text(60, 80, \"$\\mu_1=\"+str(round(means[0]))+\", \\sigma_1=\"+str(round(std[0]))+\"$\", fontsize=12)\n",
    "plt.text(60, 60, \"$\\mu_2=\"+str(round(means[1]))+\", \\sigma_2=\"+str(round(std[1]))+\"$\", fontsize=12)\n",
    "plt.text(60, 40, \"$\\mu_4=\"+str(round(means[2]))+\", \\sigma_4=\"+str(round(std[2]))+\"$\", fontsize=12)\n",
    "plt.show()\n",
    "print(means)\n",
    "\n",
    "plt.figure(figsize=(10,6))\n",
    "plt.title(\"Max waiting time distribution\")\n",
    "plt.xlabel(\"Time\")\n",
    "plt.ylabel(\"Count\")\n",
    "plt.hist(maxwait, bins=100)\n",
    "plt.show()"
   ]
  },
  {
   "cell_type": "markdown",
   "metadata": {},
   "source": [
    "# M/D/n"
   ]
  },
  {
   "cell_type": "code",
   "execution_count": 182,
   "metadata": {},
   "outputs": [
    {
     "data": {
      "image/png": "[encoded data removed]",
      "text/plain": [
       "<matplotlib.figure.Figure at 0x7f3384077c88>"
      ]
     },
     "metadata": {
      "needs_background": "light"
     },
     "output_type": "display_data"
    },
    {
     "name": "stdout",
     "output_type": "stream",
     "text": [
      "[561.5254572232357, 288.894176283442, 679.1314347850375]\n"
     ]
    }
   ],
   "source": [
    "class md_Source(object):\n",
    "    ''' Generate the customers comming into the system with some exponetially distributed interval time.\n",
    "    '''\n",
    "    def __init__(self, env, numCustomers, interval, serveTime, server):\n",
    "        self.env = env\n",
    "        self.numCustomers = numCustomers\n",
    "        self.interval = interval\n",
    "        self.serveTime = serveTime\n",
    "        self.server = server\n",
    "        self.action = env.process(self.run())\n",
    "    \n",
    "    def run(self):\n",
    "        ''' Create n customers and timeout after each creation\n",
    "        '''\n",
    "        for i in range(1, self.numCustomers+1):\n",
    "            customer = Customer(self.env, i, self.server, self.serveTime)\n",
    "            timeUntillNext = random.expovariate(1. / self.interval)\n",
    "            yield self.env.timeout(timeUntillNext)\n",
    "\n",
    "class md_Customer(object):\n",
    "    ''' Customers request the passed resource if they can make use of an open service.\n",
    "        They are then served which takes some exponentially distributed time.\n",
    "    '''\n",
    "    def __init__(self, env, number, server, serveTime):\n",
    "        self.env = env\n",
    "        self.number = number\n",
    "        self.server = server\n",
    "        self.serveTime = serveTime\n",
    "        self.action = env.process(self.run())\n",
    "    \n",
    "    def run(self):\n",
    "        ''' Create a service request and use it once it becomes available\n",
    "        '''\n",
    "        arrival = self.env.now\n",
    "#         print('customer %d starts at %d' % (self.number, self.env.now))\n",
    "        with self.server.request() as req:\n",
    "            yield req\n",
    "            results.append(self.env.now-arrival)\n",
    "#             print('customer %d served at %d' % (self.number, self.env.now))\n",
    "            yield self.env.timeout(self.serveTime)\n",
    "#             print('customer %d done at %d' % (self.number, self.env.now))\n",
    "\n",
    "customers = 1000\n",
    "capacity = [1,2,4]\n",
    "reps = 1000\n",
    "rho = 0.9\n",
    "serviceTime = 10.0\n",
    "arrival = 9.0\n",
    "means = []\n",
    "plt.figure()\n",
    "for cap in capacity:\n",
    "    totalResults = []\n",
    "    arrival /= cap\n",
    "    for _ in range(reps):\n",
    "        results = []\n",
    "        env = simpy.Environment()\n",
    "        server = simpy.Resource(env, capacity=cap)\n",
    "        source = Source(env, customers, arrival, serviceTime, server)\n",
    "        env.run()\n",
    "        totalResults.append(np.mean(results))\n",
    "    means.append(np.mean(totalResults))\n",
    "    plt.hist(totalResults, bins=20, alpha=0.5, label=\"servers = \" + str(cap))\n",
    "#     plt.plot([means[-1], means[-1]], [0, 50], scaley=False, linestyle=\"--\", label=\"mean n=\" + str(cap))\n",
    "plt.legend()\n",
    "plt.show()\n",
    "print(means)"
   ]
  },
  {
   "cell_type": "code",
   "execution_count": 181,
   "metadata": {},
   "outputs": [
    {
     "name": "stdout",
     "output_type": "stream",
     "text": [
      "9.942164690226935\n"
     ]
    },
    {
     "data": {
      "image/png": "[encoded data removed]",
      "text/plain": [
       "<matplotlib.figure.Figure at 0x7f33826ea2e8>"
      ]
     },
     "metadata": {
      "needs_background": "light"
     },
     "output_type": "display_data"
    }
   ],
   "source": [
    "y = [random.expovariate(1. / 10.0) for _ in range(1000)]\n",
    "print(np.mean(y))\n",
    "plt.figure()\n",
    "plt.hist(y, bins=50)\n",
    "plt.show()"
   ]
  }
 ],
 "metadata": {
  "kernelspec": {
   "display_name": "Python 3",
   "language": "python",
   "name": "python3"
  },
  "language_info": {
   "codemirror_mode": {
    "name": "ipython",
    "version": 3
   },
   "file_extension": ".py",
   "mimetype": "text/x-python",
   "name": "python",
   "nbconvert_exporter": "python",
   "pygments_lexer": "ipython3",
   "version": "3.5.2"
  }
 },
 "nbformat": 4,
 "nbformat_minor": 2
}
